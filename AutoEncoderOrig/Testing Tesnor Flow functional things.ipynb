{
 "cells": [
  {
   "cell_type": "code",
   "execution_count": 2,
   "metadata": {},
   "outputs": [],
   "source": [
    "import torch\n",
    "import torch.nn as nn\n",
    "import torch.nn.functional as F\n",
    "import tensorflow as tf\n",
    "import random\n",
    "import sys\n",
    "import os\n",
    "from optparse import OptionParser\n",
    "import numpy as np\n",
    "from torch import optim\n",
    "from PIL import Image\n",
    "from torch.autograd import Function, Variable\n",
    "import matplotlib.pyplot as plt\n",
    "import matplotlib \n",
    "from torchvision import transforms\n",
    "from torch.utils.data import Dataset\n",
    "import cv2\n",
    "import glob\n",
    "import pickle\n",
    "from tqdm import tqdm\n",
    "%matplotlib inline"
   ]
  },
  {
   "cell_type": "code",
   "execution_count": 17,
   "metadata": {},
   "outputs": [
    {
     "name": "stdout",
     "output_type": "stream",
     "text": [
      "[[14.  6.]\n",
      " [ 6. 12.]]\n"
     ]
    }
   ],
   "source": [
    "k = tf.constant([\n",
    "    [1, 0, 1],\n",
    "    [2, 1, 0],\n",
    "    [0, 0, 1]\n",
    "], dtype=tf.float32, name='k')\n",
    "i = tf.constant([\n",
    "    [4, 3, 1, 0],\n",
    "    [2, 1, 0, 1],\n",
    "    [1, 2, 4, 1],\n",
    "    [3, 1, 0, 2]\n",
    "], dtype=tf.float32, name='i')\n",
    "kernel = tf.reshape(k, [3, 3, 1, 1], name='kernel')\n",
    "image  = tf.reshape(i, [1, 4, 4, 1], name='image')\n",
    "res = tf.squeeze(tf.nn.conv2d(image, kernel, [1, 1, 1, 1], \"VALID\"))\n",
    "with tf.Session() as sess:\n",
    "    print(sess.run(res))"
   ]
  },
  {
   "cell_type": "code",
   "execution_count": 84,
   "metadata": {},
   "outputs": [
    {
     "name": "stdout",
     "output_type": "stream",
     "text": [
      "tensor([[[[1., 4.]]]])\n"
     ]
    }
   ],
   "source": [
    "k = torch.tensor([[1, 2,5, 3,4],[5,6,10,7,8]])#,[9,10,11,12],[13,14,15,16]])\n",
    "k = torch.unsqueeze(k,0);\n",
    "k = torch.unsqueeze(k,0);\n",
    "k = k.type(torch.FloatTensor)\n",
    "x = nn.functional.interpolate(k, size=None, scale_factor=0.5, mode='bilinear', align_corners=True)\n",
    "with tf.Session() as sess:\n",
    "    print(x)"
   ]
  },
  {
   "cell_type": "code",
   "execution_count": 23,
   "metadata": {},
   "outputs": [
    {
     "name": "stdout",
     "output_type": "stream",
     "text": [
      "torch.Size([2, 4, 2, 2])\n",
      "tensor([[[[ 3.,  0.,  4.,  0.,  6.,  0.],\n",
      "          [ 0.,  0.,  0.,  0.,  0.,  0.],\n",
      "          [10.,  0., 12.,  0., 14.,  0.],\n",
      "          [ 0.,  0.,  0.,  0.,  0.,  0.],\n",
      "          [16.,  0., 18.,  0., 20.,  0.],\n",
      "          [ 0.,  0.,  0.,  0.,  0.,  0.]],\n",
      "\n",
      "         [[ 9.,  0., 12.,  0., 18.,  0.],\n",
      "          [ 0.,  0.,  0.,  0.,  0.,  0.],\n",
      "          [30.,  0., 36.,  0., 42.,  0.],\n",
      "          [ 0.,  0.,  0.,  0.,  0.,  0.],\n",
      "          [48.,  0., 54.,  0., 60.,  0.],\n",
      "          [ 0.,  0.,  0.,  0.,  0.,  0.]],\n",
      "\n",
      "         [[ 7.,  0., 12.,  0., 18.,  0.],\n",
      "          [ 0.,  0.,  0.,  0.,  0.,  0.],\n",
      "          [30.,  0., 36.,  0., 42.,  0.],\n",
      "          [ 0.,  0.,  0.,  0.,  0.,  0.],\n",
      "          [48.,  0., 54.,  0., 60.,  0.],\n",
      "          [ 0.,  0.,  0.,  0.,  0.,  0.]],\n",
      "\n",
      "         [[ 9.,  0., 12.,  0., 18.,  0.],\n",
      "          [ 0.,  0.,  0.,  0.,  0.,  0.],\n",
      "          [30.,  0., 36.,  0., 42.,  0.],\n",
      "          [ 0.,  0.,  0.,  0.,  0.,  0.],\n",
      "          [48.,  0., 54.,  0., 60.,  0.],\n",
      "          [ 0.,  0.,  0.,  0.,  0.,  0.]]]])\n"
     ]
    },
    {
     "ename": "RuntimeError",
     "evalue": "Given transposed=1, weight of size [1, 1, 3, 3], expected input[1, 4, 6, 6] to have 1 channels, but got 4 channels instead",
     "output_type": "error",
     "traceback": [
      "\u001b[1;31m---------------------------------------------------------------------------\u001b[0m",
      "\u001b[1;31mRuntimeError\u001b[0m                              Traceback (most recent call last)",
      "\u001b[1;32m<ipython-input-23-d756ca313219>\u001b[0m in \u001b[0;36m<module>\u001b[1;34m\u001b[0m\n\u001b[0;32m     11\u001b[0m \u001b[0mkernel\u001b[0m\u001b[1;33m=\u001b[0m \u001b[0mtorch\u001b[0m\u001b[1;33m.\u001b[0m\u001b[0munsqueeze\u001b[0m\u001b[1;33m(\u001b[0m\u001b[0mkernel\u001b[0m\u001b[1;33m,\u001b[0m\u001b[1;36m0\u001b[0m\u001b[1;33m)\u001b[0m\u001b[1;33m;\u001b[0m\u001b[1;33m\u001b[0m\u001b[1;33m\u001b[0m\u001b[0m\n\u001b[0;32m     12\u001b[0m \u001b[0mkernel\u001b[0m \u001b[1;33m=\u001b[0m \u001b[0mkernel\u001b[0m\u001b[1;33m.\u001b[0m\u001b[0mtype\u001b[0m\u001b[1;33m(\u001b[0m\u001b[0mtorch\u001b[0m\u001b[1;33m.\u001b[0m\u001b[0mFloatTensor\u001b[0m\u001b[1;33m)\u001b[0m\u001b[1;33m\u001b[0m\u001b[1;33m\u001b[0m\u001b[0m\n\u001b[1;32m---> 13\u001b[1;33m \u001b[0mres1\u001b[0m \u001b[1;33m=\u001b[0m \u001b[0mnn\u001b[0m\u001b[1;33m.\u001b[0m\u001b[0mfunctional\u001b[0m\u001b[1;33m.\u001b[0m\u001b[0mconv_transpose2d\u001b[0m \u001b[1;33m(\u001b[0m\u001b[0mres\u001b[0m\u001b[1;33m,\u001b[0m \u001b[0mkernel\u001b[0m\u001b[1;33m)\u001b[0m\u001b[1;33m\u001b[0m\u001b[1;33m\u001b[0m\u001b[0m\n\u001b[0m\u001b[0;32m     14\u001b[0m \u001b[0ma\u001b[0m \u001b[1;33m=\u001b[0m \u001b[0mres1\u001b[0m\u001b[1;33m.\u001b[0m\u001b[0mshape\u001b[0m\u001b[1;33m\u001b[0m\u001b[1;33m\u001b[0m\u001b[0m\n\u001b[0;32m     15\u001b[0m \u001b[0mres1\u001b[0m \u001b[1;33m=\u001b[0m \u001b[0mres1\u001b[0m\u001b[1;33m[\u001b[0m\u001b[1;33m:\u001b[0m\u001b[1;33m,\u001b[0m\u001b[1;33m:\u001b[0m\u001b[1;33m,\u001b[0m\u001b[1;36m1\u001b[0m\u001b[1;33m:\u001b[0m\u001b[0ma\u001b[0m\u001b[1;33m[\u001b[0m\u001b[1;36m2\u001b[0m\u001b[1;33m]\u001b[0m\u001b[1;33m-\u001b[0m\u001b[1;36m2\u001b[0m\u001b[1;33m,\u001b[0m\u001b[1;36m1\u001b[0m\u001b[1;33m:\u001b[0m\u001b[0ma\u001b[0m\u001b[1;33m[\u001b[0m\u001b[1;36m3\u001b[0m\u001b[1;33m]\u001b[0m\u001b[1;33m-\u001b[0m\u001b[1;36m2\u001b[0m\u001b[1;33m]\u001b[0m\u001b[1;33m\u001b[0m\u001b[1;33m\u001b[0m\u001b[0m\n",
      "\u001b[1;31mRuntimeError\u001b[0m: Given transposed=1, weight of size [1, 1, 3, 3], expected input[1, 4, 6, 6] to have 1 channels, but got 4 channels instead"
     ]
    }
   ],
   "source": [
    "inputs = torch.tensor([[[1, 2, 3],[5,6,7],[8,9,10]],[[2, 2, 3],[5,6,7],[8,9,10]]])\n",
    "inputs= torch.unsqueeze(inputs,0);\n",
    "inputs = inputs.type(torch.FloatTensor)\n",
    "weights = torch.tensor([[[[1, 0],[0,0]],[[3, 0],[0,0]],[[5, 0],[0,0]],[[3, 0],[0,0]]],[[[1, 0],[0,0]],[[3, 0],[0,0]],[[1, 0],[0,0]],[[3, 0],[0,0]]]])\n",
    "weights = weights.type(torch.FloatTensor)\n",
    "print(weights.shape)\n",
    "res = nn.functional.conv_transpose2d (inputs, weights, stride=2)\n",
    "print(res)\n",
    "kernel = torch.tensor([[1/4, 1/2, 1/4],[1/2,1,1/2],[1/4,1/2,1/4]])\n",
    "kernel = torch.unsqueeze(kernel,0);\n",
    "kernel= torch.unsqueeze(kernel,0);\n",
    "kernel = kernel.type(torch.FloatTensor)\n",
    "res1 = nn.functional.conv_transpose2d (res, kernel)\n",
    "a = res1.shape\n",
    "res1 = res1[:,:,1:a[2]-2,1:a[3]-2]\n",
    "with tf.Session() as sess:\n",
    "    print(inputs)\n",
    "    print(weights)\n",
    "    print(res.shape)\n",
    "    print(res)\n",
    "    print(res1)\n",
    "    print(res1.shape)\n",
    "    print(a[3]-2)"
   ]
  },
  {
   "cell_type": "code",
   "execution_count": null,
   "metadata": {},
   "outputs": [],
   "source": []
  }
 ],
 "metadata": {
  "kernelspec": {
   "display_name": "Python 3",
   "language": "python",
   "name": "python3"
  },
  "language_info": {
   "codemirror_mode": {
    "name": "ipython",
    "version": 3
   },
   "file_extension": ".py",
   "mimetype": "text/x-python",
   "name": "python",
   "nbconvert_exporter": "python",
   "pygments_lexer": "ipython3",
   "version": "3.6.8"
  }
 },
 "nbformat": 4,
 "nbformat_minor": 2
}
